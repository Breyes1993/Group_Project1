{
 "cells": [
  {
   "cell_type": "code",
   "execution_count": null,
   "metadata": {},
   "outputs": [],
   "source": [
    "!pip install openweathermapy"
   ]
  },
  {
   "cell_type": "code",
   "execution_count": null,
   "metadata": {},
   "outputs": [],
   "source": [
    "#API Documenation: https://openweathermap.org/history#geo"
   ]
  },
  {
   "cell_type": "code",
   "execution_count": null,
   "metadata": {},
   "outputs": [],
   "source": [
    "import csv\n",
    "import matplotlib.pyplot as plt\n",
    "import openweathermapy as ow\n",
    "import pandas as pd\n",
    "import numpy as np\n",
    "import requests\n",
    "import time\n",
    "from api_keys import api_key\n",
    "\n"
   ]
  },
  {
   "cell_type": "code",
   "execution_count": null,
   "metadata": {},
   "outputs": [],
   "source": [
    "county_df = pd.read_csv(\"county_coordinates_edits.csv\")\n",
    "county_df.head()"
   ]
  },
  {
   "cell_type": "code",
   "execution_count": null,
   "metadata": {},
   "outputs": [],
   "source": [
    "county_latitude = []\n",
    "with open(\"county_coordinates_edits.csv\") as county_file:\n",
    "    county_reader = csv.reader(county_file)\n",
    "    county_latitude = [lat[3] for lat in county_reader]\n"
   ]
  },
  {
   "cell_type": "code",
   "execution_count": null,
   "metadata": {},
   "outputs": [],
   "source": [
    "# county_longitude = []\n",
    "# with open(\"county_coordinates_edits.csv\") as county_file:\n",
    "#     county_reader = csv.reader(county_file)\n",
    "#     county_longitude = [lng[4] for lat in county_reader]"
   ]
  },
  {
   "cell_type": "code",
   "execution_count": null,
   "metadata": {},
   "outputs": [],
   "source": [
    "   #\"http://api.openweathermap.org/data/2.5/weather?lat={lat}&lon={lon}\"\n",
    "base_url = \"http://api.openweathermap.org/data/2.5/weather?units=Imperial&appid=\" + api_key\n"
   ]
  },
  {
   "cell_type": "code",
   "execution_count": null,
   "metadata": {},
   "outputs": [],
   "source": [
    "temperature = []\n",
    "\n",
    "counter = 1\n",
    "\n",
    "for latitude in county_latitude:\n",
    "    \n",
    "    try:\n",
    "        response = requests.get(f\"{base_url}&q={latitude}\").json()\n",
    "        temperature.append(response[\"main\"][\"temp_max\"])\n",
    "        \n",
    "        counter = counter + 1\n",
    "    \n",
    "    except:\n",
    "        print(\"Latitude not found. Skipping...\")\n",
    "        continue\n",
    "        "
   ]
  },
  {
   "cell_type": "code",
   "execution_count": null,
   "metadata": {},
   "outputs": [],
   "source": [
    "response"
   ]
  },
  {
   "cell_type": "code",
   "execution_count": null,
   "metadata": {},
   "outputs": [],
   "source": []
  }
 ],
 "metadata": {
  "kernelspec": {
   "display_name": "Python 3",
   "language": "python",
   "name": "python3"
  },
  "language_info": {
   "codemirror_mode": {
    "name": "ipython",
    "version": 3
   },
   "file_extension": ".py",
   "mimetype": "text/x-python",
   "name": "python",
   "nbconvert_exporter": "python",
   "pygments_lexer": "ipython3",
   "version": "3.7.1"
  }
 },
 "nbformat": 4,
 "nbformat_minor": 2
}
